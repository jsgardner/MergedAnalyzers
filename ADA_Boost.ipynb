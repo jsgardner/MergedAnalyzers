{
 "cells": [
  {
   "cell_type": "code",
   "execution_count": 144,
   "metadata": {},
   "outputs": [],
   "source": [
    "import pandas\n",
    "import numpy as np\n",
    "from sklearn.metrics import roc_auc_score\n",
    "from IPython.display import FileLink, FileLinks"
   ]
  },
  {
   "cell_type": "code",
   "execution_count": 145,
   "metadata": {},
   "outputs": [],
   "source": [
    "# 1 image has 16x16 pixels = 256 pixels\n",
    "pixels = [\"pixel_{0}\".format(i) for i in range(36)]\n",
    "\n",
    "def to_image(df):\n",
    "    return  np.expand_dims(np.expand_dims(df[pixels], axis=-1).reshape(-1,6,6), axis=-1)\n",
    "\n",
    "\n",
    "store_train = pandas.HDFStore(\"pixelTrain.h5\")\n",
    "\n",
    "df_train = store_train.select(\"df\",stop=-1)\n",
    "df_train = df_train[(df_train[\"GenDeltaR\"]<0.1) & (df_train[\"nUniqueSimTracksInSharedHit\"]>-1)]\n",
    "\n",
    "\n",
    "store_test = pandas.HDFStore(\"pixelTrain30k.h5\")\n",
    "\n",
    "df_test = store_test.select(\"df\",stop=-1)\n",
    "df_test = df_test[(df_test[\"GenDeltaR\"]<0.1) & (df_test[\"nUniqueSimTracksInSharedHit\"]>-1)]#print(df_test)\n",
    "images_test = to_image(df_test)\n",
    "\n",
    "\n",
    "# Make all test, train data merged hit\n",
    "df_test = df_test[(df_test[\"isSharedHit\"]>0)]\n",
    "df_train = df_train[(df_train[\"isSharedHit\"]>0)]"
   ]
  },
  {
   "cell_type": "code",
   "execution_count": 146,
   "metadata": {},
   "outputs": [
    {
     "name": "stdout",
     "output_type": "stream",
     "text": [
      "25    1\n",
      "30    1\n",
      "39    1\n",
      "69    1\n",
      "92    1\n",
      "Name: isSharedHit, dtype: int32\n",
      "4     1\n",
      "9     1\n",
      "10    1\n",
      "12    1\n",
      "21    1\n",
      "Name: isSharedHit, dtype: int32\n"
     ]
    }
   ],
   "source": [
    "# Check that all are merged hits i.e. isSharedHit=1\n",
    "print df_test['isSharedHit'].head()\n",
    "\n",
    "print df_train['isSharedHit'].head()"
   ]
  },
  {
   "cell_type": "code",
   "execution_count": 147,
   "metadata": {},
   "outputs": [
    {
     "name": "stdout",
     "output_type": "stream",
     "text": [
      "(58, 42)\n",
      "(267, 42)\n"
     ]
    }
   ],
   "source": [
    "print df_test.shape\n",
    "print df_train.shape\n",
    "\n",
    "# Remove overlap between train and test data\n",
    "df_combined = pandas.concat([df_test, df_train]).drop_duplicates(keep=False)\n",
    "df_combined.shape\n",
    "\n",
    "\n",
    "# New combined files\n",
    "df_train=df_combined.sample(frac=0.6)\n",
    "df_test=df_combined.drop(df_train.index)\n",
    "\n",
    "# Make all test, train data merged hit\n",
    "df_test = df_test[(df_test[\"isSharedHit\"]>0)]\n",
    "df_train = df_train[(df_train[\"isSharedHit\"]>0)]\n",
    "\n",
    "df_train = df_train[(df_train[\"GenDeltaR\"]<0.1) & (df_train[\"nUniqueSimTracksInSharedHit\"]>-1)]\n",
    "\n",
    "\n",
    "images_train = to_image(df_train)\n",
    "images_test = to_image(df_test)"
   ]
  },
  {
   "cell_type": "code",
   "execution_count": 148,
   "metadata": {},
   "outputs": [
    {
     "name": "stdout",
     "output_type": "stream",
     "text": [
      "(115, 42)\n",
      "(173, 42)\n"
     ]
    }
   ],
   "source": [
    "print df_test.shape\n",
    "print df_train.shape"
   ]
  },
  {
   "cell_type": "code",
   "execution_count": 149,
   "metadata": {},
   "outputs": [
    {
     "data": {
      "text/html": [
       "<div>\n",
       "<style scoped>\n",
       "    .dataframe tbody tr th:only-of-type {\n",
       "        vertical-align: middle;\n",
       "    }\n",
       "\n",
       "    .dataframe tbody tr th {\n",
       "        vertical-align: top;\n",
       "    }\n",
       "\n",
       "    .dataframe thead th {\n",
       "        text-align: right;\n",
       "    }\n",
       "</style>\n",
       "<table border=\"1\" class=\"dataframe\">\n",
       "  <thead>\n",
       "    <tr style=\"text-align: right;\">\n",
       "      <th></th>\n",
       "      <th>isMergedHit</th>\n",
       "      <th>isSharedHit</th>\n",
       "      <th>trackPt</th>\n",
       "      <th>trackEta</th>\n",
       "      <th>trackPhi</th>\n",
       "      <th>nUniqueSimTracksInSharedHit</th>\n",
       "      <th>GenDeltaR</th>\n",
       "      <th>pixel_0</th>\n",
       "      <th>pixel_1</th>\n",
       "      <th>pixel_2</th>\n",
       "      <th>...</th>\n",
       "      <th>pixel_26</th>\n",
       "      <th>pixel_27</th>\n",
       "      <th>pixel_28</th>\n",
       "      <th>pixel_29</th>\n",
       "      <th>pixel_30</th>\n",
       "      <th>pixel_31</th>\n",
       "      <th>pixel_32</th>\n",
       "      <th>pixel_33</th>\n",
       "      <th>pixel_34</th>\n",
       "      <th>pixel_35</th>\n",
       "    </tr>\n",
       "  </thead>\n",
       "  <tbody>\n",
       "    <tr>\n",
       "      <th>69</th>\n",
       "      <td>1</td>\n",
       "      <td>1</td>\n",
       "      <td>1.330709</td>\n",
       "      <td>-2.043563</td>\n",
       "      <td>1.330709</td>\n",
       "      <td>2.0</td>\n",
       "      <td>0.043240</td>\n",
       "      <td>0.0</td>\n",
       "      <td>0.0</td>\n",
       "      <td>0.087983</td>\n",
       "      <td>...</td>\n",
       "      <td>0.083277</td>\n",
       "      <td>0.139740</td>\n",
       "      <td>0.0</td>\n",
       "      <td>0.0</td>\n",
       "      <td>0.0</td>\n",
       "      <td>0.0</td>\n",
       "      <td>0.04586</td>\n",
       "      <td>0.090908</td>\n",
       "      <td>0.0</td>\n",
       "      <td>0.0</td>\n",
       "    </tr>\n",
       "    <tr>\n",
       "      <th>119</th>\n",
       "      <td>1</td>\n",
       "      <td>1</td>\n",
       "      <td>4.657765</td>\n",
       "      <td>-1.873906</td>\n",
       "      <td>4.657765</td>\n",
       "      <td>2.0</td>\n",
       "      <td>0.005257</td>\n",
       "      <td>0.0</td>\n",
       "      <td>0.0</td>\n",
       "      <td>0.000000</td>\n",
       "      <td>...</td>\n",
       "      <td>0.254677</td>\n",
       "      <td>0.101919</td>\n",
       "      <td>0.0</td>\n",
       "      <td>0.0</td>\n",
       "      <td>0.0</td>\n",
       "      <td>0.0</td>\n",
       "      <td>0.00000</td>\n",
       "      <td>0.000000</td>\n",
       "      <td>0.0</td>\n",
       "      <td>0.0</td>\n",
       "    </tr>\n",
       "    <tr>\n",
       "      <th>140</th>\n",
       "      <td>0</td>\n",
       "      <td>1</td>\n",
       "      <td>4.689703</td>\n",
       "      <td>-2.010829</td>\n",
       "      <td>4.689703</td>\n",
       "      <td>1.0</td>\n",
       "      <td>0.032041</td>\n",
       "      <td>0.0</td>\n",
       "      <td>0.0</td>\n",
       "      <td>0.000000</td>\n",
       "      <td>...</td>\n",
       "      <td>0.000000</td>\n",
       "      <td>0.193271</td>\n",
       "      <td>0.0</td>\n",
       "      <td>0.0</td>\n",
       "      <td>0.0</td>\n",
       "      <td>0.0</td>\n",
       "      <td>0.00000</td>\n",
       "      <td>0.182736</td>\n",
       "      <td>0.0</td>\n",
       "      <td>0.0</td>\n",
       "    </tr>\n",
       "    <tr>\n",
       "      <th>228</th>\n",
       "      <td>0</td>\n",
       "      <td>1</td>\n",
       "      <td>13.573482</td>\n",
       "      <td>-0.220184</td>\n",
       "      <td>13.573482</td>\n",
       "      <td>1.0</td>\n",
       "      <td>0.003009</td>\n",
       "      <td>0.0</td>\n",
       "      <td>0.0</td>\n",
       "      <td>0.000000</td>\n",
       "      <td>...</td>\n",
       "      <td>0.000000</td>\n",
       "      <td>0.000000</td>\n",
       "      <td>0.0</td>\n",
       "      <td>0.0</td>\n",
       "      <td>0.0</td>\n",
       "      <td>0.0</td>\n",
       "      <td>0.00000</td>\n",
       "      <td>0.000000</td>\n",
       "      <td>0.0</td>\n",
       "      <td>0.0</td>\n",
       "    </tr>\n",
       "    <tr>\n",
       "      <th>331</th>\n",
       "      <td>1</td>\n",
       "      <td>1</td>\n",
       "      <td>1.467527</td>\n",
       "      <td>-2.182899</td>\n",
       "      <td>1.467527</td>\n",
       "      <td>2.0</td>\n",
       "      <td>0.003103</td>\n",
       "      <td>0.0</td>\n",
       "      <td>0.0</td>\n",
       "      <td>0.000000</td>\n",
       "      <td>...</td>\n",
       "      <td>0.000000</td>\n",
       "      <td>0.222396</td>\n",
       "      <td>0.0</td>\n",
       "      <td>0.0</td>\n",
       "      <td>0.0</td>\n",
       "      <td>0.0</td>\n",
       "      <td>0.00000</td>\n",
       "      <td>0.190251</td>\n",
       "      <td>0.0</td>\n",
       "      <td>0.0</td>\n",
       "    </tr>\n",
       "  </tbody>\n",
       "</table>\n",
       "<p>5 rows × 43 columns</p>\n",
       "</div>"
      ],
      "text/plain": [
       "     isMergedHit  isSharedHit    trackPt  trackEta   trackPhi  \\\n",
       "69             1            1   1.330709 -2.043563   1.330709   \n",
       "119            1            1   4.657765 -1.873906   4.657765   \n",
       "140            0            1   4.689703 -2.010829   4.689703   \n",
       "228            0            1  13.573482 -0.220184  13.573482   \n",
       "331            1            1   1.467527 -2.182899   1.467527   \n",
       "\n",
       "     nUniqueSimTracksInSharedHit  GenDeltaR  pixel_0  pixel_1   pixel_2  \\\n",
       "69                           2.0   0.043240      0.0      0.0  0.087983   \n",
       "119                          2.0   0.005257      0.0      0.0  0.000000   \n",
       "140                          1.0   0.032041      0.0      0.0  0.000000   \n",
       "228                          1.0   0.003009      0.0      0.0  0.000000   \n",
       "331                          2.0   0.003103      0.0      0.0  0.000000   \n",
       "\n",
       "       ...     pixel_26  pixel_27  pixel_28  pixel_29  pixel_30  pixel_31  \\\n",
       "69     ...     0.083277  0.139740       0.0       0.0       0.0       0.0   \n",
       "119    ...     0.254677  0.101919       0.0       0.0       0.0       0.0   \n",
       "140    ...     0.000000  0.193271       0.0       0.0       0.0       0.0   \n",
       "228    ...     0.000000  0.000000       0.0       0.0       0.0       0.0   \n",
       "331    ...     0.000000  0.222396       0.0       0.0       0.0       0.0   \n",
       "\n",
       "     pixel_32  pixel_33  pixel_34  pixel_35  \n",
       "69    0.04586  0.090908       0.0       0.0  \n",
       "119   0.00000  0.000000       0.0       0.0  \n",
       "140   0.00000  0.182736       0.0       0.0  \n",
       "228   0.00000  0.000000       0.0       0.0  \n",
       "331   0.00000  0.190251       0.0       0.0  \n",
       "\n",
       "[5 rows x 43 columns]"
      ]
     },
     "execution_count": 149,
     "metadata": {},
     "output_type": "execute_result"
    }
   ],
   "source": [
    "# Adding isMergedHit column \n",
    "\n",
    "merged_hit = df_train[\"nUniqueSimTracksInSharedHit\"]>1\n",
    "merged_int = merged_hit.astype(int)\n",
    "df_train.insert(0, \"isMergedHit\", merged_int, True)\n",
    "\n",
    "#df_train.head()\n",
    "\n",
    "merged_hit_test = df_test[\"nUniqueSimTracksInSharedHit\"]>1\n",
    "merged_int_test = merged_hit_test.astype(int)\n",
    "df_test.insert(0, \"isMergedHit\", merged_int_test, True)\n",
    "\n",
    "df_test.head()"
   ]
  },
  {
   "cell_type": "code",
   "execution_count": 150,
   "metadata": {},
   "outputs": [
    {
     "data": {
      "text/html": [
       "<div>\n",
       "<style scoped>\n",
       "    .dataframe tbody tr th:only-of-type {\n",
       "        vertical-align: middle;\n",
       "    }\n",
       "\n",
       "    .dataframe tbody tr th {\n",
       "        vertical-align: top;\n",
       "    }\n",
       "\n",
       "    .dataframe thead th {\n",
       "        text-align: right;\n",
       "    }\n",
       "</style>\n",
       "<table border=\"1\" class=\"dataframe\">\n",
       "  <thead>\n",
       "    <tr style=\"text-align: right;\">\n",
       "      <th></th>\n",
       "      <th>isMergedHit</th>\n",
       "      <th>isSharedHit</th>\n",
       "      <th>trackPt</th>\n",
       "      <th>trackEta</th>\n",
       "      <th>trackPhi</th>\n",
       "      <th>nUniqueSimTracksInSharedHit</th>\n",
       "      <th>GenDeltaR</th>\n",
       "      <th>pixel_0</th>\n",
       "      <th>pixel_1</th>\n",
       "      <th>pixel_2</th>\n",
       "      <th>...</th>\n",
       "      <th>pixel_26</th>\n",
       "      <th>pixel_27</th>\n",
       "      <th>pixel_28</th>\n",
       "      <th>pixel_29</th>\n",
       "      <th>pixel_30</th>\n",
       "      <th>pixel_31</th>\n",
       "      <th>pixel_32</th>\n",
       "      <th>pixel_33</th>\n",
       "      <th>pixel_34</th>\n",
       "      <th>pixel_35</th>\n",
       "    </tr>\n",
       "  </thead>\n",
       "  <tbody>\n",
       "  </tbody>\n",
       "</table>\n",
       "<p>0 rows × 43 columns</p>\n",
       "</div>"
      ],
      "text/plain": [
       "Empty DataFrame\n",
       "Columns: [isMergedHit, isSharedHit, trackPt, trackEta, trackPhi, nUniqueSimTracksInSharedHit, GenDeltaR, pixel_0, pixel_1, pixel_2, pixel_3, pixel_4, pixel_5, pixel_6, pixel_7, pixel_8, pixel_9, pixel_10, pixel_11, pixel_12, pixel_13, pixel_14, pixel_15, pixel_16, pixel_17, pixel_18, pixel_19, pixel_20, pixel_21, pixel_22, pixel_23, pixel_24, pixel_25, pixel_26, pixel_27, pixel_28, pixel_29, pixel_30, pixel_31, pixel_32, pixel_33, pixel_34, pixel_35]\n",
       "Index: []\n",
       "\n",
       "[0 rows x 43 columns]"
      ]
     },
     "execution_count": 150,
     "metadata": {},
     "output_type": "execute_result"
    }
   ],
   "source": [
    "# Check for overlap\n",
    "pandas.merge(df_train, df_test, on=[x for x in df_train.columns], how='inner')"
   ]
  },
  {
   "cell_type": "code",
   "execution_count": 151,
   "metadata": {
    "scrolled": true
   },
   "outputs": [
    {
     "name": "stdout",
     "output_type": "stream",
     "text": [
      "Train data\n",
      "(173,)\n",
      "(173, 40)\n",
      "Test Data\n",
      "(115,)\n",
      "(115, 40)\n"
     ]
    }
   ],
   "source": [
    "from sklearn.model_selection import train_test_split\n",
    "X = df_train.iloc[:,np.r_[1:4, 6:43]]\n",
    "Y = df_train['isMergedHit']\n",
    "#train_SharedHit = images_train['isMergedHit']\n",
    "\n",
    "x_final_test = df_test.iloc[:,np.r_[1:4, 6:43]]\n",
    "y_final_test = df_test['isMergedHit']\n",
    "\n",
    "# Splitting train data into training and validation datasets\n",
    "x_train, x_test, y_train_v, y_test_v = train_test_split(X, Y, test_size = 0.4, random_state = 2)\n",
    "\n",
    "print 'Train data'\n",
    "print Y.shape\n",
    "print X.shape\n",
    "print 'Test Data'\n",
    "print y_final_test.shape\n",
    "print x_final_test.shape"
   ]
  },
  {
   "cell_type": "code",
   "execution_count": 152,
   "metadata": {},
   "outputs": [],
   "source": [
    "import matplotlib.pyplot as plt\n",
    "from sklearn import metrics\n",
    "from sklearn.metrics import classification_report\n",
    "from sklearn.datasets import make_classification\n",
    "from sklearn import metrics\n",
    "from sklearn.metrics import roc_curve\n",
    "from sklearn.metrics import roc_auc_score"
   ]
  },
  {
   "cell_type": "code",
   "execution_count": 153,
   "metadata": {},
   "outputs": [
    {
     "data": {
      "image/png": "[encoded data removed]",
      "text/plain": [
       "<Figure size 432x288 with 1 Axes>"
      ]
     },
     "metadata": {},
     "output_type": "display_data"
    }
   ],
   "source": [
    "# ADABoost Classifier\n",
    "from sklearn.ensemble import AdaBoostClassifier\n",
    "\n",
    "ada = AdaBoostClassifier()\n",
    "ada.fit(x_train, y_train_v)\n",
    "\n",
    "import warnings\n",
    "warnings.simplefilter(action='ignore', category=FutureWarning)\n",
    "\n",
    "probs_ADA = ada.predict_proba(x_final_test)[:,1]\n",
    "\n",
    "#ROC Curve\n",
    "\n",
    "merged_array_ADA = df_test.as_matrix(columns=df_test.columns[:1])\n",
    "\n",
    "fpr, tpr, thresholds = roc_curve(merged_array_ADA, probs_ADA)\n",
    "auc_ADA = metrics.auc(fpr,tpr)\n",
    "auc_ADA = round(auc_ADA, 4)\n",
    "plt.xlim(0, 1.0)\n",
    "plt.ylim(0, 1.25)\n",
    "plt.plot(fpr,tpr, color='red', label='ADA Boost Classifer')\n",
    "plt.title(\"ROC Curve - Area = \"+str(auc_ADA))\n",
    "plt.xlabel('False Positives')\n",
    "plt.ylabel('True Positives')\n",
    "plt.legend()\n",
    "plt.show()"
   ]
  },
  {
   "cell_type": "code",
   "execution_count": 154,
   "metadata": {},
   "outputs": [
    {
     "name": "stdout",
     "output_type": "stream",
     "text": [
      "Confusion Matrix\n"
     ]
    },
    {
     "data": {
      "image/png": "[encoded data removed]",
      "text/plain": [
       "<Figure size 432x288 with 1 Axes>"
      ]
     },
     "metadata": {},
     "output_type": "display_data"
    }
   ],
   "source": [
    "# Not very important, confusion matrix\n",
    "import seaborn as sns; sns.set()\n",
    "import matplotlib.pyplot as plt\n",
    "from sklearn.metrics import confusion_matrix\n",
    "\n",
    "y_final_test_pred = ada.predict(x_final_test)\n",
    "\n",
    "print 'Confusion Matrix'\n",
    "mat = confusion_matrix(y_final_test, y_final_test_pred) \n",
    "sns.heatmap(mat.T, square=True, annot=True, fmt='d', cbar=False)\n",
    "plt.xlabel('true label')\n",
    "plt.ylabel('predicted label');"
   ]
  },
  {
   "cell_type": "code",
   "execution_count": 163,
   "metadata": {},
   "outputs": [
    {
     "ename": "IndexError",
     "evalue": "boolean index did not match indexed array along dimension 0; dimension is 115 but corresponding boolean dimension is 173",
     "output_type": "error",
     "traceback": [
      "\u001b[0;31m\u001b[0m",
      "\u001b[0;31mIndexError\u001b[0mTraceback (most recent call last)",
      "\u001b[0;32m<ipython-input-163-97d5fc3abc84>\u001b[0m in \u001b[0;36m<module>\u001b[0;34m()\u001b[0m\n\u001b[1;32m      4\u001b[0m \u001b[0mbackground\u001b[0m \u001b[0;34m=\u001b[0m \u001b[0mprobs_ADA\u001b[0m\u001b[0;34m[\u001b[0m\u001b[0mdf_test\u001b[0m\u001b[0;34m[\u001b[0m\u001b[0;34m\"isMergedHit\"\u001b[0m\u001b[0;34m]\u001b[0m\u001b[0;34m==\u001b[0m\u001b[0;36m0\u001b[0m\u001b[0;34m]\u001b[0m\u001b[0;34m\u001b[0m\u001b[0m\n\u001b[1;32m      5\u001b[0m \u001b[0;34m\u001b[0m\u001b[0m\n\u001b[0;32m----> 6\u001b[0;31m \u001b[0msignal_train\u001b[0m \u001b[0;34m=\u001b[0m \u001b[0mprobs_ADA\u001b[0m\u001b[0;34m[\u001b[0m\u001b[0mdf_train\u001b[0m\u001b[0;34m[\u001b[0m\u001b[0;34m\"isMergedHit\"\u001b[0m\u001b[0;34m]\u001b[0m\u001b[0;34m==\u001b[0m\u001b[0;36m1\u001b[0m\u001b[0;34m]\u001b[0m\u001b[0;34m\u001b[0m\u001b[0m\n\u001b[0m\u001b[1;32m      7\u001b[0m \u001b[0mbackground_train\u001b[0m \u001b[0;34m=\u001b[0m \u001b[0mprobs_ADA\u001b[0m\u001b[0;34m[\u001b[0m\u001b[0mdf_train\u001b[0m\u001b[0;34m[\u001b[0m\u001b[0;34m\"isMerged\"\u001b[0m\u001b[0;34m]\u001b[0m\u001b[0;34m==\u001b[0m\u001b[0;36m0\u001b[0m\u001b[0;34m]\u001b[0m\u001b[0;34m\u001b[0m\u001b[0m\n",
      "\u001b[0;31mIndexError\u001b[0m: boolean index did not match indexed array along dimension 0; dimension is 115 but corresponding boolean dimension is 173"
     ]
    }
   ],
   "source": [
    "#ada.predict(x_train)\n",
    "#ada.decision_function(x_train)\n",
    "signal = probs_ADA[df_test[\"isMergedHit\"]==1]\n",
    "background = probs_ADA[df_test[\"isMergedHit\"]==0]\n",
    "\n",
    "probs_ADA_train = ada.predict_proba(x_train)\n",
    "signal_train = probs_ADA[df_train[\"isMergedHit\"]==1]\n",
    "background_train = probs_ADA[df_train[\"isMerged\"]==0]"
   ]
  },
  {
   "cell_type": "code",
   "execution_count": 156,
   "metadata": {},
   "outputs": [
    {
     "data": {
      "text/plain": [
       "<matplotlib.legend.Legend at 0x7fb397d76690>"
      ]
     },
     "execution_count": 156,
     "metadata": {},
     "output_type": "execute_result"
    },
    {
     "data": {
      "image/png": "[encoded data removed]",
      "text/plain": [
       "<Figure size 432x288 with 1 Axes>"
      ]
     },
     "metadata": {},
     "output_type": "display_data"
    }
   ],
   "source": [
    "plt.hist(signal, bins = 10, alpha = 0.5, color = 'b', label = 'Signal (test)', range = (0,1))\n",
    "plt.hist(background, bins = 10, alpha = 0.5, color = 'r', label = 'Background (test)', range = (0,1))\n",
    "plt.legend(loc='best')"
   ]
  },
  {
   "cell_type": "code",
   "execution_count": 157,
   "metadata": {},
   "outputs": [
    {
     "name": "stdout",
     "output_type": "stream",
     "text": [
      "signal\n",
      "(array([ 4,  2,  5,  5,  3,  8, 24,  4,  3,  6]), array([0.27715441, 0.34436608, 0.41157775, 0.47878941, 0.54600108,\n",
      "       0.61321275, 0.68042442, 0.74763609, 0.81484775, 0.88205942,\n",
      "       0.94927109]))\n",
      "background\n",
      "(array([ 4,  1,  9, 16, 10,  2,  3,  2,  2,  3]), array([0.26663376, 0.29787436, 0.32911495, 0.36035555, 0.39159614,\n",
      "       0.42283674, 0.45407733, 0.48531792, 0.51655852, 0.54779911,\n",
      "       0.57903971]))\n"
     ]
    }
   ],
   "source": [
    "#print signal\n",
    "#print background\n",
    "print 'signal'\n",
    "print np.histogram(signal)\n",
    "print 'background'\n",
    "print np.histogram(background)"
   ]
  },
  {
   "cell_type": "code",
   "execution_count": null,
   "metadata": {},
   "outputs": [],
   "source": []
  }
 ],
 "metadata": {
  "kernelspec": {
   "display_name": "Python 2",
   "language": "python",
   "name": "python2"
  },
  "language_info": {
   "codemirror_mode": {
    "name": "ipython",
    "version": 2
   },
   "file_extension": ".py",
   "mimetype": "text/x-python",
   "name": "python",
   "nbconvert_exporter": "python",
   "pygments_lexer": "ipython2",
   "version": "2.7.15"
  }
 },
 "nbformat": 4,
 "nbformat_minor": 2
}
