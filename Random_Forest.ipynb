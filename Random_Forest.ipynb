{
 "cells": [
  {
   "cell_type": "code",
   "execution_count": 11,
   "metadata": {},
   "outputs": [],
   "source": [
    "import pandas, keras\n",
    "import numpy as np\n",
    "from sklearn.metrics import roc_auc_score\n",
    "from IPython.display import FileLink, FileLinks"
   ]
  },
  {
   "cell_type": "code",
   "execution_count": 12,
   "metadata": {},
   "outputs": [],
   "source": [
    "# 1 image has 16x16 pixels = 256 pixels\n",
    "pixels = [\"pixel_{0}\".format(i) for i in range(36)]\n",
    "\n",
    "def to_image(df):\n",
    "    return  np.expand_dims(np.expand_dims(df[pixels], axis=-1).reshape(-1,6,6), axis=-1)\n",
    "\n",
    "\n",
    "store_train = pandas.HDFStore(\"pixelTrain.h5\")\n",
    "\n",
    "df_train = store_train.select(\"df\",stop=-1)\n",
    "df_train = df_train[(df_train[\"GenDeltaR\"]<0.1) & (df_train[\"nUniqueSimTracksInSharedHit\"]>-1)]\n",
    "\n",
    "\n",
    "store_test = pandas.HDFStore(\"pixelTrain30k.h5\")\n",
    "\n",
    "df_test = store_test.select(\"df\",stop=-1)\n",
    "df_test = df_test[(df_test[\"GenDeltaR\"]<0.1) & (df_test[\"nUniqueSimTracksInSharedHit\"]>-1)]#print(df_test)\n",
    "images_test = to_image(df_test)\n",
    "\n",
    "\n",
    "# Make all test, train data merged hit\n",
    "df_test = df_test[(df_test[\"isSharedHit\"]>0)]\n",
    "df_train = df_train[(df_train[\"isSharedHit\"]>0)]"
   ]
  },
  {
   "cell_type": "code",
   "execution_count": 13,
   "metadata": {},
   "outputs": [
    {
     "name": "stdout",
     "output_type": "stream",
     "text": [
      "25    1\n",
      "30    1\n",
      "39    1\n",
      "69    1\n",
      "92    1\n",
      "Name: isSharedHit, dtype: int32\n",
      "4     1\n",
      "9     1\n",
      "10    1\n",
      "12    1\n",
      "21    1\n",
      "Name: isSharedHit, dtype: int32\n"
     ]
    }
   ],
   "source": [
    "# Check that all are merged hits i.e. isSharedHit=1\n",
    "print df_test['isSharedHit'].head()\n",
    "print df_train['isSharedHit'].head()"
   ]
  },
  {
   "cell_type": "code",
   "execution_count": 14,
   "metadata": {},
   "outputs": [
    {
     "name": "stdout",
     "output_type": "stream",
     "text": [
      "(58, 42)\n",
      "(267, 42)\n"
     ]
    }
   ],
   "source": [
    "print df_test.shape\n",
    "print df_train.shape\n",
    "\n",
    "# Remove overlap between train and test data\n",
    "df_combined = pandas.concat([df_test, df_train]).drop_duplicates(keep=False)\n",
    "df_combined.shape\n",
    "\n",
    "\n",
    "# New combined files\n",
    "df_train=df_combined.sample(frac=0.6)\n",
    "df_test=df_combined.drop(df_train.index)\n",
    "\n",
    "# Make all test, train data merged hit\n",
    "df_test = df_test[(df_test[\"isSharedHit\"]>0)]\n",
    "df_train = df_train[(df_train[\"isSharedHit\"]>0)]\n",
    "\n",
    "df_train = df_train[(df_train[\"GenDeltaR\"]<0.1) & (df_train[\"nUniqueSimTracksInSharedHit\"]>-1)]\n",
    "\n",
    "\n",
    "images_train = to_image(df_train)\n",
    "images_test = to_image(df_test)"
   ]
  },
  {
   "cell_type": "code",
   "execution_count": 15,
   "metadata": {},
   "outputs": [
    {
     "name": "stdout",
     "output_type": "stream",
     "text": [
      "(115, 42)\n",
      "(173, 42)\n"
     ]
    }
   ],
   "source": [
    "print df_test.shape\n",
    "print df_train.shape"
   ]
  },
  {
   "cell_type": "code",
   "execution_count": 16,
   "metadata": {},
   "outputs": [
    {
     "data": {
      "text/html": [
       "<div>\n",
       "<style scoped>\n",
       "    .dataframe tbody tr th:only-of-type {\n",
       "        vertical-align: middle;\n",
       "    }\n",
       "\n",
       "    .dataframe tbody tr th {\n",
       "        vertical-align: top;\n",
       "    }\n",
       "\n",
       "    .dataframe thead th {\n",
       "        text-align: right;\n",
       "    }\n",
       "</style>\n",
       "<table border=\"1\" class=\"dataframe\">\n",
       "  <thead>\n",
       "    <tr style=\"text-align: right;\">\n",
       "      <th></th>\n",
       "      <th>isMergedHit</th>\n",
       "      <th>isSharedHit</th>\n",
       "      <th>trackPt</th>\n",
       "      <th>trackEta</th>\n",
       "      <th>trackPhi</th>\n",
       "      <th>nUniqueSimTracksInSharedHit</th>\n",
       "      <th>GenDeltaR</th>\n",
       "      <th>pixel_0</th>\n",
       "      <th>pixel_1</th>\n",
       "      <th>pixel_2</th>\n",
       "      <th>...</th>\n",
       "      <th>pixel_26</th>\n",
       "      <th>pixel_27</th>\n",
       "      <th>pixel_28</th>\n",
       "      <th>pixel_29</th>\n",
       "      <th>pixel_30</th>\n",
       "      <th>pixel_31</th>\n",
       "      <th>pixel_32</th>\n",
       "      <th>pixel_33</th>\n",
       "      <th>pixel_34</th>\n",
       "      <th>pixel_35</th>\n",
       "    </tr>\n",
       "  </thead>\n",
       "  <tbody>\n",
       "    <tr>\n",
       "      <th>25</th>\n",
       "      <td>0</td>\n",
       "      <td>1</td>\n",
       "      <td>1.929511</td>\n",
       "      <td>-2.201498</td>\n",
       "      <td>1.929511</td>\n",
       "      <td>1.0</td>\n",
       "      <td>0.014203</td>\n",
       "      <td>0.0</td>\n",
       "      <td>0.0</td>\n",
       "      <td>0.000000</td>\n",
       "      <td>...</td>\n",
       "      <td>0.074612</td>\n",
       "      <td>0.040008</td>\n",
       "      <td>0.000000</td>\n",
       "      <td>0.0</td>\n",
       "      <td>0.0</td>\n",
       "      <td>0.0</td>\n",
       "      <td>0.107974</td>\n",
       "      <td>0.000000</td>\n",
       "      <td>0.0</td>\n",
       "      <td>0.0</td>\n",
       "    </tr>\n",
       "    <tr>\n",
       "      <th>69</th>\n",
       "      <td>1</td>\n",
       "      <td>1</td>\n",
       "      <td>1.330709</td>\n",
       "      <td>-2.043563</td>\n",
       "      <td>1.330709</td>\n",
       "      <td>2.0</td>\n",
       "      <td>0.043240</td>\n",
       "      <td>0.0</td>\n",
       "      <td>0.0</td>\n",
       "      <td>0.087983</td>\n",
       "      <td>...</td>\n",
       "      <td>0.083277</td>\n",
       "      <td>0.139740</td>\n",
       "      <td>0.000000</td>\n",
       "      <td>0.0</td>\n",
       "      <td>0.0</td>\n",
       "      <td>0.0</td>\n",
       "      <td>0.045860</td>\n",
       "      <td>0.090908</td>\n",
       "      <td>0.0</td>\n",
       "      <td>0.0</td>\n",
       "    </tr>\n",
       "    <tr>\n",
       "      <th>92</th>\n",
       "      <td>0</td>\n",
       "      <td>1</td>\n",
       "      <td>1.927646</td>\n",
       "      <td>-2.203123</td>\n",
       "      <td>1.927646</td>\n",
       "      <td>1.0</td>\n",
       "      <td>0.016287</td>\n",
       "      <td>0.0</td>\n",
       "      <td>0.0</td>\n",
       "      <td>0.000000</td>\n",
       "      <td>...</td>\n",
       "      <td>0.000000</td>\n",
       "      <td>0.403630</td>\n",
       "      <td>0.056244</td>\n",
       "      <td>0.0</td>\n",
       "      <td>0.0</td>\n",
       "      <td>0.0</td>\n",
       "      <td>0.000000</td>\n",
       "      <td>0.000000</td>\n",
       "      <td>0.0</td>\n",
       "      <td>0.0</td>\n",
       "    </tr>\n",
       "    <tr>\n",
       "      <th>140</th>\n",
       "      <td>0</td>\n",
       "      <td>1</td>\n",
       "      <td>4.689703</td>\n",
       "      <td>-2.010829</td>\n",
       "      <td>4.689703</td>\n",
       "      <td>1.0</td>\n",
       "      <td>0.032041</td>\n",
       "      <td>0.0</td>\n",
       "      <td>0.0</td>\n",
       "      <td>0.000000</td>\n",
       "      <td>...</td>\n",
       "      <td>0.000000</td>\n",
       "      <td>0.193271</td>\n",
       "      <td>0.000000</td>\n",
       "      <td>0.0</td>\n",
       "      <td>0.0</td>\n",
       "      <td>0.0</td>\n",
       "      <td>0.000000</td>\n",
       "      <td>0.182736</td>\n",
       "      <td>0.0</td>\n",
       "      <td>0.0</td>\n",
       "    </tr>\n",
       "    <tr>\n",
       "      <th>228</th>\n",
       "      <td>0</td>\n",
       "      <td>1</td>\n",
       "      <td>13.573482</td>\n",
       "      <td>-0.220184</td>\n",
       "      <td>13.573482</td>\n",
       "      <td>1.0</td>\n",
       "      <td>0.003009</td>\n",
       "      <td>0.0</td>\n",
       "      <td>0.0</td>\n",
       "      <td>0.000000</td>\n",
       "      <td>...</td>\n",
       "      <td>0.000000</td>\n",
       "      <td>0.000000</td>\n",
       "      <td>0.000000</td>\n",
       "      <td>0.0</td>\n",
       "      <td>0.0</td>\n",
       "      <td>0.0</td>\n",
       "      <td>0.000000</td>\n",
       "      <td>0.000000</td>\n",
       "      <td>0.0</td>\n",
       "      <td>0.0</td>\n",
       "    </tr>\n",
       "  </tbody>\n",
       "</table>\n",
       "<p>5 rows × 43 columns</p>\n",
       "</div>"
      ],
      "text/plain": [
       "     isMergedHit  isSharedHit    trackPt  trackEta   trackPhi  \\\n",
       "25             0            1   1.929511 -2.201498   1.929511   \n",
       "69             1            1   1.330709 -2.043563   1.330709   \n",
       "92             0            1   1.927646 -2.203123   1.927646   \n",
       "140            0            1   4.689703 -2.010829   4.689703   \n",
       "228            0            1  13.573482 -0.220184  13.573482   \n",
       "\n",
       "     nUniqueSimTracksInSharedHit  GenDeltaR  pixel_0  pixel_1   pixel_2  ...  \\\n",
       "25                           1.0   0.014203      0.0      0.0  0.000000  ...   \n",
       "69                           2.0   0.043240      0.0      0.0  0.087983  ...   \n",
       "92                           1.0   0.016287      0.0      0.0  0.000000  ...   \n",
       "140                          1.0   0.032041      0.0      0.0  0.000000  ...   \n",
       "228                          1.0   0.003009      0.0      0.0  0.000000  ...   \n",
       "\n",
       "     pixel_26  pixel_27  pixel_28  pixel_29  pixel_30  pixel_31  pixel_32  \\\n",
       "25   0.074612  0.040008  0.000000       0.0       0.0       0.0  0.107974   \n",
       "69   0.083277  0.139740  0.000000       0.0       0.0       0.0  0.045860   \n",
       "92   0.000000  0.403630  0.056244       0.0       0.0       0.0  0.000000   \n",
       "140  0.000000  0.193271  0.000000       0.0       0.0       0.0  0.000000   \n",
       "228  0.000000  0.000000  0.000000       0.0       0.0       0.0  0.000000   \n",
       "\n",
       "     pixel_33  pixel_34  pixel_35  \n",
       "25   0.000000       0.0       0.0  \n",
       "69   0.090908       0.0       0.0  \n",
       "92   0.000000       0.0       0.0  \n",
       "140  0.182736       0.0       0.0  \n",
       "228  0.000000       0.0       0.0  \n",
       "\n",
       "[5 rows x 43 columns]"
      ]
     },
     "execution_count": 16,
     "metadata": {},
     "output_type": "execute_result"
    }
   ],
   "source": [
    "# Adding isMergedHit column \n",
    "\n",
    "merged_hit = df_train[\"nUniqueSimTracksInSharedHit\"]>1\n",
    "merged_int = merged_hit.astype(int)\n",
    "df_train.insert(0, \"isMergedHit\", merged_int, True)\n",
    "\n",
    "#df_train.head()\n",
    "\n",
    "merged_hit_test = df_test[\"nUniqueSimTracksInSharedHit\"]>1\n",
    "merged_int_test = merged_hit_test.astype(int)\n",
    "df_test.insert(0, \"isMergedHit\", merged_int_test, True)\n",
    "\n",
    "df_test.head()"
   ]
  },
  {
   "cell_type": "code",
   "execution_count": 17,
   "metadata": {},
   "outputs": [
    {
     "data": {
      "text/html": [
       "<div>\n",
       "<style scoped>\n",
       "    .dataframe tbody tr th:only-of-type {\n",
       "        vertical-align: middle;\n",
       "    }\n",
       "\n",
       "    .dataframe tbody tr th {\n",
       "        vertical-align: top;\n",
       "    }\n",
       "\n",
       "    .dataframe thead th {\n",
       "        text-align: right;\n",
       "    }\n",
       "</style>\n",
       "<table border=\"1\" class=\"dataframe\">\n",
       "  <thead>\n",
       "    <tr style=\"text-align: right;\">\n",
       "      <th></th>\n",
       "      <th>isMergedHit</th>\n",
       "      <th>isSharedHit</th>\n",
       "      <th>trackPt</th>\n",
       "      <th>trackEta</th>\n",
       "      <th>trackPhi</th>\n",
       "      <th>nUniqueSimTracksInSharedHit</th>\n",
       "      <th>GenDeltaR</th>\n",
       "      <th>pixel_0</th>\n",
       "      <th>pixel_1</th>\n",
       "      <th>pixel_2</th>\n",
       "      <th>...</th>\n",
       "      <th>pixel_26</th>\n",
       "      <th>pixel_27</th>\n",
       "      <th>pixel_28</th>\n",
       "      <th>pixel_29</th>\n",
       "      <th>pixel_30</th>\n",
       "      <th>pixel_31</th>\n",
       "      <th>pixel_32</th>\n",
       "      <th>pixel_33</th>\n",
       "      <th>pixel_34</th>\n",
       "      <th>pixel_35</th>\n",
       "    </tr>\n",
       "  </thead>\n",
       "  <tbody>\n",
       "  </tbody>\n",
       "</table>\n",
       "<p>0 rows × 43 columns</p>\n",
       "</div>"
      ],
      "text/plain": [
       "Empty DataFrame\n",
       "Columns: [isMergedHit, isSharedHit, trackPt, trackEta, trackPhi, nUniqueSimTracksInSharedHit, GenDeltaR, pixel_0, pixel_1, pixel_2, pixel_3, pixel_4, pixel_5, pixel_6, pixel_7, pixel_8, pixel_9, pixel_10, pixel_11, pixel_12, pixel_13, pixel_14, pixel_15, pixel_16, pixel_17, pixel_18, pixel_19, pixel_20, pixel_21, pixel_22, pixel_23, pixel_24, pixel_25, pixel_26, pixel_27, pixel_28, pixel_29, pixel_30, pixel_31, pixel_32, pixel_33, pixel_34, pixel_35]\n",
       "Index: []\n",
       "\n",
       "[0 rows x 43 columns]"
      ]
     },
     "execution_count": 17,
     "metadata": {},
     "output_type": "execute_result"
    }
   ],
   "source": [
    "# Check for overlap\n",
    "pandas.merge(df_train, df_test, on=[x for x in df_train.columns], how='inner')"
   ]
  },
  {
   "cell_type": "code",
   "execution_count": 18,
   "metadata": {},
   "outputs": [
    {
     "name": "stdout",
     "output_type": "stream",
     "text": [
      "(173,)\n",
      "(173, 40)\n"
     ]
    }
   ],
   "source": [
    "from sklearn.model_selection import train_test_split\n",
    "X = df_train.iloc[:,np.r_[1:4, 6:43]]\n",
    "Y = df_train['isMergedHit']\n",
    "#train_SharedHit = images_train['isMergedHit']\n",
    "\n",
    "x_final_test = df_test.iloc[:,np.r_[1:4, 6:43]]\n",
    "y_final_test = df_test['isMergedHit']\n",
    "\n",
    "# Splitting train data into training and validation datasets\n",
    "x_train, x_test, y_train_v, y_test_v = train_test_split(X, Y, test_size = 0.4, random_state = 2)\n",
    "\n",
    "print Y.shape\n",
    "print X.shape"
   ]
  },
  {
   "cell_type": "code",
   "execution_count": 20,
   "metadata": {},
   "outputs": [
    {
     "name": "stdout",
     "output_type": "stream",
     "text": [
      "Training metrics:\n",
      "              precision    recall  f1-score   support\n",
      "\n",
      "           0       1.00      1.00      1.00        51\n",
      "           1       1.00      1.00      1.00        52\n",
      "\n",
      "   micro avg       1.00      1.00      1.00       103\n",
      "   macro avg       1.00      1.00      1.00       103\n",
      "weighted avg       1.00      1.00      1.00       103\n",
      "\n",
      "Validation test data metrics:\n",
      "              precision    recall  f1-score   support\n",
      "\n",
      "           0       0.81      0.97      0.88        35\n",
      "           1       0.96      0.77      0.86        35\n",
      "\n",
      "   micro avg       0.87      0.87      0.87        70\n",
      "   macro avg       0.89      0.87      0.87        70\n",
      "weighted avg       0.89      0.87      0.87        70\n",
      "\n",
      "0.8714285714285714\n"
     ]
    },
    {
     "name": "stderr",
     "output_type": "stream",
     "text": [
      "/cvmfs/sft.cern.ch/lcg/views/LCG_96/x86_64-centos7-gcc8-opt/lib/python2.7/site-packages/sklearn/ensemble/forest.py:246: FutureWarning: The default value of n_estimators will change from 10 in version 0.20 to 100 in 0.22.\n",
      "  \"10 in version 0.20 to 100 in 0.22.\", FutureWarning)\n"
     ]
    }
   ],
   "source": [
    "# Random Forest\n",
    "import sklearn\n",
    "from sklearn.ensemble import RandomForestClassifier\n",
    "from sklearn.model_selection import train_test_split\n",
    "from sklearn.metrics import accuracy_score\n",
    "# Defining Model\n",
    "\n",
    "clf = RandomForestClassifier()\n",
    "\n",
    "clf.fit(x_train, y_train_v)\n",
    "\n",
    "# Predictions on training \n",
    "y_pred_train = clf.predict(x_train)\n",
    "\n",
    "# Predictions for test\n",
    "y_pred_test = clf.predict(x_test)\n",
    "\n",
    "# Training metrics\n",
    "print(\"Training metrics:\")\n",
    "print(sklearn.metrics.classification_report(y_train_v, y_pred_train))\n",
    "\n",
    "# Test data metrics\n",
    "print(\"Validation test data metrics:\")\n",
    "print(sklearn.metrics.classification_report(y_test_v, y_pred_test))\n",
    "print accuracy_score(y_test_v, y_pred_test)\n",
    "\n",
    "import warnings\n",
    "warnings.filterwarnings(\"ignore\", category=DeprecationWarning)"
   ]
  },
  {
   "cell_type": "code",
   "execution_count": 21,
   "metadata": {},
   "outputs": [
    {
     "name": "stdout",
     "output_type": "stream",
     "text": [
      "Test data metrics:\n",
      "              precision    recall  f1-score   support\n",
      "\n",
      "           0       0.72      0.95      0.82        40\n",
      "           1       0.97      0.80      0.88        75\n",
      "\n",
      "   micro avg       0.85      0.85      0.85       115\n",
      "   macro avg       0.84      0.88      0.85       115\n",
      "weighted avg       0.88      0.85      0.86       115\n",
      "\n",
      "Accuracy Score\n",
      "0.8521739130434782\n"
     ]
    }
   ],
   "source": [
    "# Predictions on test set\n",
    "y_pred_final_test = clf.predict(x_final_test)\n",
    "\n",
    "# Final test data metrics\n",
    "print(\"Test data metrics:\")\n",
    "print(sklearn.metrics.classification_report(y_final_test, y_pred_final_test))\n",
    "\n",
    "# Evaluating the model\n",
    "from sklearn.metrics import classification_report, confusion_matrix, accuracy_score\n",
    "print 'Accuracy Score'\n",
    "print accuracy_score(y_final_test, y_pred_final_test)"
   ]
  },
  {
   "cell_type": "code",
   "execution_count": 22,
   "metadata": {},
   "outputs": [
    {
     "name": "stdout",
     "output_type": "stream",
     "text": [
      "Confusion Matrix\n"
     ]
    }
   ],
   "source": [
    "# Not very important, confusion matrix plot\n",
    "import seaborn as sns; sns.set()\n",
    "import matplotlib.pyplot as plt\n",
    "\n",
    "print 'Confusion Matrix'\n",
    "mat = confusion_matrix(y_final_test, y_pred_final_test) \n",
    "sns.heatmap(mat.T, square=True, annot=True, fmt='d', cbar=False)\n",
    "plt.xlabel('true label')\n",
    "plt.ylabel('predicted label');"
   ]
  },
  {
   "cell_type": "code",
   "execution_count": 23,
   "metadata": {
    "scrolled": true
   },
   "outputs": [
    {
     "data": {
      "image/png": "[encoded data removed]",
      "text/plain": [
       "<Figure size 432x288 with 1 Axes>"
      ]
     },
     "metadata": {
      "needs_background": "light"
     },
     "output_type": "display_data"
    }
   ],
   "source": [
    "import matplotlib.pyplot as plt\n",
    "from sklearn import metrics\n",
    "from sklearn.metrics import classification_report\n",
    "from sklearn.datasets import make_classification\n",
    "from sklearn import metrics\n",
    "from sklearn.metrics import roc_curve\n",
    "from sklearn.metrics import roc_auc_score\n",
    "\n",
    "# Getting rid of warning for .as_matrix\n",
    "import warnings\n",
    "warnings.simplefilter(action='ignore', category=FutureWarning)\n",
    "\n",
    "# ROC Curve for RandomForest\n",
    "probs = clf.predict_proba(x_final_test)[:,1]\n",
    "\n",
    "merged_array = df_test.as_matrix(columns=df_test.columns[:1])\n",
    "\n",
    "fpr, tpr, thresholds = roc_curve(merged_array, probs)\n",
    "auc = metrics.auc(fpr,tpr)\n",
    "auc = round(auc, 4)\n",
    "plt.xlim(0, 1.0)\n",
    "plt.ylim(0, 1.25)\n",
    "plt.plot(fpr,tpr, color='green', label='RandomForest Model')\n",
    "plt.title(\"ROC Curve - Area = \"+str(auc))\n",
    "plt.xlabel('False Positives')\n",
    "plt.ylabel('True Positives')\n",
    "plt.legend()\n",
    "plt.show()"
   ]
  },
  {
   "cell_type": "code",
   "execution_count": 24,
   "metadata": {},
   "outputs": [
    {
     "name": "stdout",
     "output_type": "stream",
     "text": [
      "shared hits with at least 2 sim tracks:\n",
      "0.50289017341\n"
     ]
    },
    {
     "data": {
      "text/plain": [
       "Text(0.5,1,'nUniqueSimTracksInSharedHit')"
      ]
     },
     "execution_count": 24,
     "metadata": {},
     "output_type": "execute_result"
    },
    {
     "data": {
      "image/png": "[encoded data removed]",
      "text/plain": [
       "<Figure size 432x288 with 1 Axes>"
      ]
     },
     "metadata": {
      "needs_background": "light"
     },
     "output_type": "display_data"
    }
   ],
   "source": [
    "print \"shared hits with at least 2 sim tracks:\"\n",
    "print float(sum(df_train[\"nUniqueSimTracksInSharedHit\"]>1))/len(df_train[\"nUniqueSimTracksInSharedHit\"])\n",
    "plt.hist(df_train[\"nUniqueSimTracksInSharedHit\"],histtype=\"step\",bins=6,range=(-0.5,5.5))\n",
    "plt.title(\"nUniqueSimTracksInSharedHit\")"
   ]
  },
  {
   "cell_type": "code",
   "execution_count": 25,
   "metadata": {},
   "outputs": [
    {
     "name": "stdout",
     "output_type": "stream",
     "text": [
      "0.50289017341\n"
     ]
    },
    {
     "name": "stderr",
     "output_type": "stream",
     "text": [
      "/cvmfs/sft.cern.ch/lcg/views/LCG_96/x86_64-centos7-gcc8-opt/lib/python2.7/site-packages/numpy/lib/histograms.py:778: RuntimeWarning: Converting input from bool to <type 'numpy.uint8'> for compatibility.\n",
      "  a, weights = _ravel_and_check_weights(a, weights)\n"
     ]
    },
    {
     "data": {
      "image/png": "[encoded data removed]",
      "text/plain": [
       "<Figure size 432x288 with 1 Axes>"
      ]
     },
     "metadata": {
      "needs_background": "light"
     },
     "output_type": "display_data"
    }
   ],
   "source": [
    "print float(sum(df_train[\"nUniqueSimTracksInSharedHit\"]>1))/len(df_train[\"nUniqueSimTracksInSharedHit\"])\n",
    "plt.hist(df_train[\"nUniqueSimTracksInSharedHit\"]>1,histtype=\"step\",bins=2,range=(-0.5,1.5))\n",
    "plt.title(\"Distribution of Hits in Training Data\")\n",
    "plt.xticks([0,1],(\"Not Merged\",\"Merged\"))\n",
    "plt.savefig(\"merged_dist.png\")\n",
    "plt.savefig(\"merged_dist.pdf\")"
   ]
  },
  {
   "cell_type": "code",
   "execution_count": null,
   "metadata": {},
   "outputs": [],
   "source": []
  }
 ],
 "metadata": {
  "kernelspec": {
   "display_name": "Python 2",
   "language": "python",
   "name": "python2"
  },
  "language_info": {
   "codemirror_mode": {
    "name": "ipython",
    "version": 2
   },
   "file_extension": ".py",
   "mimetype": "text/x-python",
   "name": "python",
   "nbconvert_exporter": "python",
   "pygments_lexer": "ipython2",
   "version": "2.7.16"
  }
 },
 "nbformat": 4,
 "nbformat_minor": 2
}
